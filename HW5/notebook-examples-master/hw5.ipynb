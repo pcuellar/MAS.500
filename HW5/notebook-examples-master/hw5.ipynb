{
 "cells": [
  {
   "cell_type": "code",
   "execution_count": 1,
   "metadata": {
    "collapsed": true
   },
   "outputs": [],
   "source": [
    "#imports\n",
    "from sqlalchemy import *\n",
    "import datetime\n",
    "import mediacloud, datetime\n",
    "import numpy as np"
   ]
  },
  {
   "cell_type": "code",
   "execution_count": 2,
   "metadata": {
    "collapsed": false
   },
   "outputs": [
    {
     "name": "stdout",
     "output_type": "stream",
     "text": [
      "2016-12-08 05:03:18,550 INFO sqlalchemy.engine.base.Engine SELECT CAST('test plain returns' AS VARCHAR(60)) AS anon_1\n",
      "2016-12-08 05:03:18,552 INFO sqlalchemy.engine.base.Engine ()\n",
      "2016-12-08 05:03:18,553 INFO sqlalchemy.engine.base.Engine SELECT CAST('test unicode returns' AS VARCHAR(60)) AS anon_1\n",
      "2016-12-08 05:03:18,554 INFO sqlalchemy.engine.base.Engine ()\n",
      "2016-12-08 05:03:18,557 INFO sqlalchemy.engine.base.Engine PRAGMA table_info(\"data\")\n",
      "2016-12-08 05:03:18,558 INFO sqlalchemy.engine.base.Engine ()\n",
      "2016-12-08 05:03:18,561 INFO sqlalchemy.engine.base.Engine \n",
      "CREATE TABLE data (\n",
      "\tid INTEGER NOT NULL, \n",
      "\tsentences INTEGER, \n",
      "\tsearches VARCHAR(400) NOT NULL, \n",
      "\ttimestamp DATETIME, \n",
      "\tPRIMARY KEY (id)\n",
      ")\n",
      "\n",
      "\n",
      "2016-12-08 05:03:18,562 INFO sqlalchemy.engine.base.Engine ()\n",
      "2016-12-08 05:03:18,563 INFO sqlalchemy.engine.base.Engine COMMIT\n"
     ]
    }
   ],
   "source": [
    "#create a table to store data\n",
    "engine = create_engine('sqlite:///:memory:',echo=True)\n",
    "metadata = MetaData()\n",
    "colombia = Table('data', metadata,\n",
    "    Column('id', Integer, primary_key=True),\n",
    "    Column('sentences', Integer),\n",
    "    Column('searches', String(400), nullable=False),\n",
    "    Column('timestamp', DateTime, default=datetime.datetime.now),\n",
    ")\n",
    "metadata.create_all(engine)"
   ]
  },
  {
   "cell_type": "code",
   "execution_count": 3,
   "metadata": {
    "collapsed": false
   },
   "outputs": [
    {
     "name": "stdout",
     "output_type": "stream",
     "text": [
      "63663\n",
      "2016-12-08 05:00:44,219 INFO sqlalchemy.engine.base.Engine INSERT INTO data (sentences, searches, timestamp) VALUES (?, ?, ?)\n",
      "2016-12-08 05:00:44,220 INFO sqlalchemy.engine.base.Engine (63663, 'agreement', '2016-12-08 05:00:44.219550')\n",
      "2016-12-08 05:00:44,221 INFO sqlalchemy.engine.base.Engine COMMIT\n",
      "64064\n",
      "2016-12-08 05:00:45,140 INFO sqlalchemy.engine.base.Engine INSERT INTO data (sentences, searches, timestamp) VALUES (?, ?, ?)\n",
      "2016-12-08 05:00:45,141 INFO sqlalchemy.engine.base.Engine (64064, 'signed', '2016-12-08 05:00:45.140157')\n",
      "2016-12-08 05:00:45,142 INFO sqlalchemy.engine.base.Engine COMMIT\n",
      "10274\n",
      "2016-12-08 05:00:46,061 INFO sqlalchemy.engine.base.Engine INSERT INTO data (sentences, searches, timestamp) VALUES (?, ?, ?)\n",
      "2016-12-08 05:00:46,062 INFO sqlalchemy.engine.base.Engine (10274, 'colombia', '2016-12-08 05:00:46.061863')\n",
      "2016-12-08 05:00:46,063 INFO sqlalchemy.engine.base.Engine COMMIT\n",
      "43723\n",
      "2016-12-08 05:00:47,034 INFO sqlalchemy.engine.base.Engine INSERT INTO data (sentences, searches, timestamp) VALUES (?, ?, ?)\n",
      "2016-12-08 05:00:47,034 INFO sqlalchemy.engine.base.Engine (43723, 'peace', '2016-12-08 05:00:47.033963')\n",
      "2016-12-08 05:00:47,035 INFO sqlalchemy.engine.base.Engine COMMIT\n",
      "723\n",
      "2016-12-08 05:00:47,599 INFO sqlalchemy.engine.base.Engine INSERT INTO data (sentences, searches, timestamp) VALUES (?, ?, ?)\n",
      "2016-12-08 05:00:47,600 INFO sqlalchemy.engine.base.Engine (723, 'plebiscite', '2016-12-08 05:00:47.599575')\n",
      "2016-12-08 05:00:47,602 INFO sqlalchemy.engine.base.Engine COMMIT\n",
      "25130\n",
      "2016-12-08 05:00:48,718 INFO sqlalchemy.engine.base.Engine INSERT INTO data (sentences, searches, timestamp) VALUES (?, ?, ?)\n",
      "2016-12-08 05:00:48,719 INFO sqlalchemy.engine.base.Engine (25130, 'conflict', '2016-12-08 05:00:48.718705')\n",
      "2016-12-08 05:00:48,720 INFO sqlalchemy.engine.base.Engine COMMIT\n",
      "1856\n",
      "2016-12-08 05:00:49,441 INFO sqlalchemy.engine.base.Engine INSERT INTO data (sentences, searches, timestamp) VALUES (?, ?, ?)\n",
      "2016-12-08 05:00:49,442 INFO sqlalchemy.engine.base.Engine (1856, 'guerrilla', '2016-12-08 05:00:49.441063')\n",
      "2016-12-08 05:00:49,443 INFO sqlalchemy.engine.base.Engine COMMIT\n"
     ]
    }
   ],
   "source": [
    "#search with single terms\n",
    "mc = mediacloud.api.MediaCloud('MY_API_KEY')\n",
    "searches = ['agreement', 'signed', 'colombia', 'peace', 'plebiscite', 'conflict', 'guerrilla']\n",
    "for item in searches:\n",
    "    res = mc.sentenceCount(item, solr_filter=[mc.publish_date_query( datetime.date( 2015, 10, 1), datetime.date( 2016, 12, 2) ), 'tags_id_media:1' ])\n",
    "    agreement_counts = res['count']\n",
    "    print agreement_counts\n",
    "    insert_stmt = colombia.insert().values(searches=item, sentences=agreement_counts)\n",
    "    db_conn = engine.connect()\n",
    "    result = db_conn.execute(insert_stmt)\n",
    "    result.inserted_primary_key"
   ]
  },
  {
   "cell_type": "code",
   "execution_count": 3,
   "metadata": {
    "collapsed": false
   },
   "outputs": [
    {
     "name": "stdout",
     "output_type": "stream",
     "text": [
      "120\n",
      "2016-12-08 05:04:14,650 INFO sqlalchemy.engine.base.Engine INSERT INTO data (sentences, searches, timestamp) VALUES (?, ?, ?)\n",
      "2016-12-08 05:04:14,651 INFO sqlalchemy.engine.base.Engine (120, '(agreement AND signed AND colombia)', '2016-12-08 05:04:14.649957')\n",
      "2016-12-08 05:04:14,651 INFO sqlalchemy.engine.base.Engine COMMIT\n",
      "4174\n",
      "2016-12-08 05:04:16,803 INFO sqlalchemy.engine.base.Engine INSERT INTO data (sentences, searches, timestamp) VALUES (?, ?, ?)\n",
      "2016-12-08 05:04:16,803 INFO sqlalchemy.engine.base.Engine (4174, '( colombia AND peace)', '2016-12-08 05:04:16.803059')\n",
      "2016-12-08 05:04:16,805 INFO sqlalchemy.engine.base.Engine COMMIT\n",
      "47\n",
      "2016-12-08 05:04:20,177 INFO sqlalchemy.engine.base.Engine INSERT INTO data (sentences, searches, timestamp) VALUES (?, ?, ?)\n",
      "2016-12-08 05:04:20,178 INFO sqlalchemy.engine.base.Engine (47, '(plebiscite AND colombia AND peace)', '2016-12-08 05:04:20.177335')\n",
      "2016-12-08 05:04:20,179 INFO sqlalchemy.engine.base.Engine COMMIT\n",
      "71\n",
      "2016-12-08 05:04:23,620 INFO sqlalchemy.engine.base.Engine INSERT INTO data (sentences, searches, timestamp) VALUES (?, ?, ?)\n",
      "2016-12-08 05:04:23,621 INFO sqlalchemy.engine.base.Engine (71, '(conflict AND colombia AND guerrilla)', '2016-12-08 05:04:23.620743')\n",
      "2016-12-08 05:04:23,622 INFO sqlalchemy.engine.base.Engine COMMIT\n"
     ]
    }
   ],
   "source": [
    "#attempting to do combined keyword searches\n",
    "mc = mediacloud.api.MediaCloud('MY_API_KEY')\n",
    "searches = ['(agreement AND signed AND colombia)', '( colombia AND peace)', '(plebiscite AND colombia AND peace)', '(conflict AND colombia AND guerrilla)']\n",
    "for item in searches:\n",
    "    res = mc.sentenceCount(item, solr_filter=[mc.publish_date_query( datetime.date( 2015, 10, 1), datetime.date( 2016, 12, 2) ), 'tags_id_media:1' ])\n",
    "    agreement_counts = res['count']\n",
    "    print agreement_counts\n",
    "    insert_stmt = colombia.insert().values(searches=item, sentences=agreement_counts)\n",
    "    db_conn = engine.connect()\n",
    "    result = db_conn.execute(insert_stmt)\n",
    "    result.inserted_primary_key"
   ]
  },
  {
   "cell_type": "code",
   "execution_count": 18,
   "metadata": {
    "collapsed": false
   },
   "outputs": [
    {
     "ename": "TypeError",
     "evalue": "'int' object is not iterable",
     "output_type": "error",
     "traceback": [
      "\u001b[0;31m---------------------------------------------------------------------------\u001b[0m",
      "\u001b[0;31mTypeError\u001b[0m                                 Traceback (most recent call last)",
      "\u001b[0;32m<ipython-input-18-07a220b8b420>\u001b[0m in \u001b[0;36m<module>\u001b[0;34m()\u001b[0m\n\u001b[0;32m----> 1\u001b[0;31m \u001b[0;32mfor\u001b[0m \u001b[0mitem\u001b[0m \u001b[0;32min\u001b[0m \u001b[0magreement_counts\u001b[0m\u001b[0;34m:\u001b[0m\u001b[0;34m\u001b[0m\u001b[0m\n\u001b[0m\u001b[1;32m      2\u001b[0m     \u001b[0minsert_stmt\u001b[0m \u001b[0;34m=\u001b[0m \u001b[0mcolombia\u001b[0m\u001b[0;34m.\u001b[0m\u001b[0minsert\u001b[0m\u001b[0;34m(\u001b[0m\u001b[0;34m)\u001b[0m\u001b[0;34m.\u001b[0m\u001b[0mvalues\u001b[0m\u001b[0;34m(\u001b[0m\u001b[0msearches\u001b[0m\u001b[0;34m=\u001b[0m\u001b[0mitem\u001b[0m\u001b[0;34m,\u001b[0m \u001b[0msentences\u001b[0m\u001b[0;34m=\u001b[0m\u001b[0magreement_counts\u001b[0m\u001b[0;34m)\u001b[0m\u001b[0;34m\u001b[0m\u001b[0m\n\u001b[1;32m      3\u001b[0m     \u001b[0mdb_conn\u001b[0m \u001b[0;34m=\u001b[0m \u001b[0mengine\u001b[0m\u001b[0;34m.\u001b[0m\u001b[0mconnect\u001b[0m\u001b[0;34m(\u001b[0m\u001b[0;34m)\u001b[0m\u001b[0;34m\u001b[0m\u001b[0m\n\u001b[1;32m      4\u001b[0m     \u001b[0mresult\u001b[0m \u001b[0;34m=\u001b[0m \u001b[0mdb_conn\u001b[0m\u001b[0;34m.\u001b[0m\u001b[0mexecute\u001b[0m\u001b[0;34m(\u001b[0m\u001b[0minsert_stmt\u001b[0m\u001b[0;34m)\u001b[0m\u001b[0;34m\u001b[0m\u001b[0m\n\u001b[1;32m      5\u001b[0m     \u001b[0mresult\u001b[0m\u001b[0;34m.\u001b[0m\u001b[0minserted_primary_key\u001b[0m\u001b[0;34m\u001b[0m\u001b[0m\n",
      "\u001b[0;31mTypeError\u001b[0m: 'int' object is not iterable"
     ]
    }
   ],
   "source": [
    "#can I do this? No. I tried butthe insert has to happen right after the count. Ask Rahul why.\n",
    "# for item in agreement_counts:\n",
    "#     insert_stmt = queries.insert().values(keywords= item, count = r)\n",
    "#     db_conn = engine.connect()\n",
    "#     result = db_conn.execute(insert_stmt)\n",
    "#     result.inserted_primary_key"
   ]
  },
  {
   "cell_type": "code",
   "execution_count": 4,
   "metadata": {
    "collapsed": false
   },
   "outputs": [
    {
     "name": "stdout",
     "output_type": "stream",
     "text": [
      "2016-12-08 05:00:55,772 INFO sqlalchemy.engine.base.Engine SELECT data.id, data.sentences, data.searches, data.timestamp \n",
      "FROM data\n",
      "2016-12-08 05:00:55,774 INFO sqlalchemy.engine.base.Engine ()\n",
      "(1, 63663, u'agreement', datetime.datetime(2016, 12, 8, 5, 0, 44, 219550))\n",
      "(2, 64064, u'signed', datetime.datetime(2016, 12, 8, 5, 0, 45, 140157))\n",
      "(3, 10274, u'colombia', datetime.datetime(2016, 12, 8, 5, 0, 46, 61863))\n",
      "(4, 43723, u'peace', datetime.datetime(2016, 12, 8, 5, 0, 47, 33963))\n",
      "(5, 723, u'plebiscite', datetime.datetime(2016, 12, 8, 5, 0, 47, 599575))\n",
      "(6, 25130, u'conflict', datetime.datetime(2016, 12, 8, 5, 0, 48, 718705))\n",
      "(7, 1856, u'guerrilla', datetime.datetime(2016, 12, 8, 5, 0, 49, 441063))\n"
     ]
    }
   ],
   "source": [
    "#check if data was correctly stored\n",
    "from sqlalchemy.sql import select\n",
    "select_stmt = select([colombia])\n",
    "results = db_conn.execute(select_stmt)\n",
    "for row in results:\n",
    "    print row"
   ]
  },
  {
   "cell_type": "code",
   "execution_count": 20,
   "metadata": {
    "collapsed": false
   },
   "outputs": [
    {
     "name": "stdout",
     "output_type": "stream",
     "text": [
      "(120, 4174, 47, 71)\n"
     ]
    }
   ],
   "source": [
    "#calling MC API and inserting returns into db\n",
    "# mc = mediacloud.api.MediaCloud('MY_API_KEY')\n",
    "# signed_agr = mc.sentenceCount('(agreement AND signed AND colombia)', solr_filter=[mc.publish_date_query( datetime.date( 2015, 10, 1), datetime.date( 2016, 12, 2) ), 'tags_id_media:1' ])\n",
    "# col_peace = mc.sentenceCount('( colombia AND peace)', solr_filter=[mc.publish_date_query( datetime.date( 2015, 10, 1), datetime.date( 2016, 12, 2) ), 'tags_id_media:1' ])\n",
    "# plebiscite = mc.sentenceCount('(plebiscite AND colombia AND peace)', solr_filter=[mc.publish_date_query( datetime.date( 2015, 10, 1), datetime.date( 2016, 12, 2) ), 'tags_id_media:1' ])\n",
    "# conflict = mc.sentenceCount('(conflict AND colombia AND guerrilla)', solr_filter=[mc.publish_date_query( datetime.date( 2015, 10, 1), datetime.date( 2016, 12, 2) ), 'tags_id_media:1' ])\n",
    "# agreement_counts = (signed_agr['count'], col_peace['count'], plebiscite['count'], conflict['count'])\n",
    "# print agreement_counts\n",
    "# db_conn = engine.connect()\n",
    "# for item in agreement_counts:\n",
    "#     insert_stmt = colombia.insert().values(sentences= agreement_counts)\n",
    "#     result = db_conn.execute(insert_stmt)\n",
    "#     result.inserted_primary_key"
   ]
  },
  {
   "cell_type": "code",
   "execution_count": 8,
   "metadata": {
    "collapsed": false
   },
   "outputs": [
    {
     "name": "stdout",
     "output_type": "stream",
     "text": [
      "2016-12-08 05:01:45,963 INFO sqlalchemy.engine.base.Engine SELECT data.id, data.sentences, data.searches, data.timestamp \n",
      "FROM data\n",
      "2016-12-08 05:01:45,964 INFO sqlalchemy.engine.base.Engine ()\n",
      "209433\n"
     ]
    }
   ],
   "source": [
    "#sum of counts added to the database\n",
    "from sqlalchemy.sql import select\n",
    "select_stmt = select([colombia])\n",
    "results = db_conn.execute(select_stmt)\n",
    "sum = 0\n",
    "for row in results:\n",
    "    sum  = sum + row[1]\n",
    "print sum"
   ]
  }
 ],
 "metadata": {
  "anaconda-cloud": {},
  "kernelspec": {
   "display_name": "Python [Root]",
   "language": "python",
   "name": "Python [Root]"
  },
  "language_info": {
   "codemirror_mode": {
    "name": "ipython",
    "version": 2
   },
   "file_extension": ".py",
   "mimetype": "text/x-python",
   "name": "python",
   "nbconvert_exporter": "python",
   "pygments_lexer": "ipython2",
   "version": "2.7.12"
  }
 },
 "nbformat": 4,
 "nbformat_minor": 0
}
